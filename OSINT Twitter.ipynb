{
 "cells": [
  {
   "cell_type": "code",
   "execution_count": null,
   "id": "3b4253e8",
   "metadata": {},
   "outputs": [],
   "source": [
    "# !pip install twint\n",
    "# !pip install nest_asyncio\n",
    "# !pip install --user --upgrade git+https://github.com/twintproject/twint.git@origin/master#egg=twint"
   ]
  },
  {
   "cell_type": "code",
   "execution_count": null,
   "id": "2616ecb4",
   "metadata": {},
   "outputs": [],
   "source": [
    "import twint\n",
    "import nest_asyncio\n",
    "nest_asyncio.apply()"
   ]
  },
  {
   "cell_type": "markdown",
   "id": "f257a093",
   "metadata": {},
   "source": [
    "# Get Tweets\n",
    "\n",
    "### Target Users\n",
    "- find users that have a specific 'keyword' in their tweets\n",
    "- rank tweets by number of likes, retweets, replies\n",
    "- find users that are in a specific location\n",
    "- find followers of a user\n",
    "- find who a user follows\n",
    "\n",
    "### Target Corporate/Company Activity\n",
    "- find what users are saying about them\n",
    "- find where their influence is in"
   ]
  },
  {
   "cell_type": "markdown",
   "id": "a5f2e14d",
   "metadata": {},
   "source": [
    "#### Keyword search"
   ]
  },
  {
   "cell_type": "code",
   "execution_count": null,
   "id": "435382fb",
   "metadata": {},
   "outputs": [],
   "source": [
    "keyword = 'big data'\n",
    "\n",
    "c = twint.Config()\n",
    "c.Search = keyword\n",
    "\n",
    "c.Pandas = True\n",
    "twint.run.Search(c)\n",
    "\n",
    "tweets_data = twint.storage.panda.Tweets_df\n",
    "tweets_data.head()"
   ]
  },
  {
   "cell_type": "code",
   "execution_count": null,
   "id": "5859b80f",
   "metadata": {},
   "outputs": [],
   "source": [
    "# Add search limit\n",
    "# Limit Based on Popular search\n",
    "# Hide Output\n",
    "\n",
    "keyword = 'big data'\n",
    "\n",
    "c = twint.Config()\n",
    "c.Search = keyword\n",
    "\n",
    "c.Limit = 20\n",
    "c.Pandas = True\n",
    "c.Hide_output = True\n",
    "c.Popular_tweets = True\n",
    "twint.run.Search(c)\n",
    "\n",
    "tweets_data = twint.storage.panda.Tweets_df\n",
    "tweets_data.head()"
   ]
  },
  {
   "cell_type": "code",
   "execution_count": null,
   "id": "0d393fee",
   "metadata": {},
   "outputs": [],
   "source": [
    "tweets_data.columns"
   ]
  },
  {
   "cell_type": "code",
   "execution_count": null,
   "id": "6b906c01",
   "metadata": {},
   "outputs": [],
   "source": [
    "tweets_data[['username', 'name', 'nlikes']]"
   ]
  },
  {
   "cell_type": "markdown",
   "id": "1431cf0d",
   "metadata": {},
   "source": [
    "#### Keyword Search in a specific location"
   ]
  },
  {
   "cell_type": "code",
   "execution_count": null,
   "id": "57d7d21a",
   "metadata": {
    "scrolled": true
   },
   "outputs": [],
   "source": [
    "keyword = 'big data'\n",
    "area = 'Harare'\n",
    "\n",
    "c = twint.Config()\n",
    "c.Search = keyword\n",
    "c.Near = area\n",
    "\n",
    "c.Limit = 20\n",
    "c.Pandas = True\n",
    "c.Hide_output = True\n",
    "twint.run.Search(c)\n",
    "\n",
    "tweets_data = twint.storage.panda.Tweets_df\n",
    "tweets_data[['username', 'name', 'tweet', 'nlikes']]"
   ]
  },
  {
   "cell_type": "markdown",
   "id": "f428eccb",
   "metadata": {},
   "source": [
    "#### Username Search"
   ]
  },
  {
   "cell_type": "code",
   "execution_count": null,
   "id": "639bd525",
   "metadata": {},
   "outputs": [],
   "source": [
    "username = ''\n",
    "\n",
    "c = twint.Config()\n",
    "c.Username = username\n",
    "\n",
    "c.Limit = 10\n",
    "c.Pandas = True\n",
    "c.Hide_output = True\n",
    "twint.run.Search(c)\n",
    "\n",
    "tweets_data = twint.storage.panda.Tweets_df\n",
    "tweets_data[['username', 'name', 'tweet', 'retweet']]"
   ]
  },
  {
   "cell_type": "code",
   "execution_count": null,
   "id": "978da593",
   "metadata": {},
   "outputs": [],
   "source": [
    "username = 'ChinhoyiCUT'\n",
    "\n",
    "c = twint.Config()\n",
    "c.Username = username\n",
    "c.deleted = True\n",
    "\n",
    "c.Limit = 10\n",
    "c.Pandas = True\n",
    "c.Hide_output = True\n",
    "twint.run.Search(c)\n",
    "\n",
    "tweets_data = twint.storage.panda.Tweets_df\n",
    "tweets_data[['date', 'username', 'name', 'tweet']]"
   ]
  },
  {
   "cell_type": "code",
   "execution_count": null,
   "id": "2c448c10",
   "metadata": {},
   "outputs": [],
   "source": [
    "username = 'ChinhoyiCUT'\n",
    "\n",
    "c = twint.Config()\n",
    "c.Username = username\n",
    "c.deleted = True\n",
    "c.Year = 2021\n",
    "\n",
    "# c.Limit = 10\n",
    "c.Pandas = True\n",
    "c.Hide_output = True\n",
    "twint.run.Search(c)\n",
    "\n",
    "tweets_data = twint.storage.panda.Tweets_df\n",
    "tweets_data[['date', 'username', 'name', 'tweet']]"
   ]
  },
  {
   "cell_type": "code",
   "execution_count": null,
   "id": "45d58fb8",
   "metadata": {},
   "outputs": [],
   "source": [
    "tweets_data[['date', 'name', 'near', 'nlikes', 'photos', 'place']]"
   ]
  },
  {
   "cell_type": "code",
   "execution_count": null,
   "id": "f7579ccb",
   "metadata": {
    "scrolled": true
   },
   "outputs": [],
   "source": [
    "# !pip install pillow\n",
    "import requests\n",
    "from PIL import Image"
   ]
  },
  {
   "cell_type": "code",
   "execution_count": null,
   "id": "579eb89a",
   "metadata": {},
   "outputs": [],
   "source": [
    "from pandas import DataFrame\n",
    "from time import time\n",
    "def store_tweet_images(dataframe: DataFrame):\n",
    "    # Get list of urls for the photos\n",
    "    photos_data = dataframe['photos']\n",
    "    photos_url_list = []\n",
    "    for photos in photos_data:\n",
    "        for photo in photos:\n",
    "            photos_url_list.append(photo)\n",
    "            \n",
    "    # Save Images\n",
    "    for photo_url in photos_url_list:\n",
    "        t = time()\n",
    "        filename = int(t * 1000)\n",
    "        filepath = 'intelligence-images/{}.jpg'.format(str(filename))\n",
    "        img = Image.open(requests.get(photo_url, stream = True).raw)\n",
    "        try:\n",
    "            img.save(filepath)\n",
    "            print('url: {}, name: {}'.format(photo_url, filename))\n",
    "            \n",
    "        except OSError:\n",
    "            pass"
   ]
  },
  {
   "cell_type": "code",
   "execution_count": null,
   "id": "b4b38c4e",
   "metadata": {},
   "outputs": [],
   "source": [
    "store_tweet_images(dataframe=tweets_data)"
   ]
  },
  {
   "cell_type": "code",
   "execution_count": null,
   "id": "3583fe71",
   "metadata": {},
   "outputs": [],
   "source": []
  }
 ],
 "metadata": {
  "kernelspec": {
   "display_name": "test",
   "language": "python",
   "name": "test"
  },
  "language_info": {
   "codemirror_mode": {
    "name": "ipython",
    "version": 3
   },
   "file_extension": ".py",
   "mimetype": "text/x-python",
   "name": "python",
   "nbconvert_exporter": "python",
   "pygments_lexer": "ipython3",
   "version": "3.9.12"
  }
 },
 "nbformat": 4,
 "nbformat_minor": 5
}
